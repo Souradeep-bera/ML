{
 "cells": [
  {
   "cell_type": "code",
   "execution_count": 1,
   "id": "68dd719c-90c2-4065-bfdc-d2d730682688",
   "metadata": {},
   "outputs": [],
   "source": [
    "import pandas as pd\n",
    "import numpy as np"
   ]
  },
  {
   "cell_type": "code",
   "execution_count": 2,
   "id": "f57e87b8-f575-4317-9935-2722dac4547b",
   "metadata": {},
   "outputs": [],
   "source": [
    "#series definition\n",
    "x=pd.Series(np.arange(1,10))"
   ]
  },
  {
   "cell_type": "raw",
   "id": "7161ef19-1302-40a5-adcf-7f24ff85de12",
   "metadata": {},
   "source": [
    "The values attribute returns a NumPy array containing the values of each item in the\n",
    "Series."
   ]
  },
  {
   "cell_type": "code",
   "execution_count": 3,
   "id": "501bf468-8303-4523-a9b8-8121d2280e97",
   "metadata": {},
   "outputs": [
    {
     "data": {
      "text/plain": [
       "array([1, 2, 3, 4, 5, 6, 7, 8, 9])"
      ]
     },
     "execution_count": 3,
     "metadata": {},
     "output_type": "execute_result"
    }
   ],
   "source": [
    "x.values"
   ]
  },
  {
   "cell_type": "markdown",
   "id": "87c9f33f-fd8a-40f5-b269-67d216a6cbb8",
   "metadata": {},
   "source": [
    "# Accessing the index of a Series"
   ]
  },
  {
   "cell_type": "code",
   "execution_count": 4,
   "id": "d7a05584-d3cd-47da-b3aa-2d3ce6c3de51",
   "metadata": {},
   "outputs": [
    {
     "data": {
      "text/plain": [
       "RangeIndex(start=0, stop=9, step=1)"
      ]
     },
     "execution_count": 4,
     "metadata": {},
     "output_type": "execute_result"
    }
   ],
   "source": [
    "x.index"
   ]
  },
  {
   "cell_type": "code",
   "execution_count": 6,
   "id": "0657033d-1db6-44c4-8e61-c34ce448d696",
   "metadata": {},
   "outputs": [
    {
     "data": {
      "text/plain": [
       "0    1\n",
       "1    3\n",
       "2    5\n",
       "3    7\n",
       "4    9\n",
       "dtype: int32"
      ]
     },
     "execution_count": 6,
     "metadata": {},
     "output_type": "execute_result"
    }
   ],
   "source": [
    "y = pd.Series(np.arange(1, 10, 2))\n",
    "y"
   ]
  },
  {
   "cell_type": "code",
   "execution_count": 7,
   "id": "b0926d96-caa8-4e34-93f1-f8262ed83261",
   "metadata": {},
   "outputs": [
    {
     "data": {
      "text/plain": [
       "RangeIndex(start=0, stop=5, step=1)"
      ]
     },
     "execution_count": 7,
     "metadata": {},
     "output_type": "execute_result"
    }
   ],
   "source": [
    "y.index"
   ]
  },
  {
   "cell_type": "markdown",
   "id": "13cc7357-a4ae-4cb2-af7d-5c1ed74dfe79",
   "metadata": {},
   "source": [
    "# Obtaining the unique values in a Series and their count"
   ]
  },
  {
   "cell_type": "code",
   "execution_count": 12,
   "id": "826fcf2e-9182-4c1d-8469-0a96d19d1b73",
   "metadata": {},
   "outputs": [
    {
     "name": "stdout",
     "output_type": "stream",
     "text": [
      "0     a\n",
      "1     b\n",
      "2     c\n",
      "3     d\n",
      "4     e\n",
      "5     f\n",
      "6     g\n",
      "7     h\n",
      "8     i\n",
      "9     j\n",
      "10    d\n",
      "11    e\n",
      "12    f\n",
      "dtype: object\n",
      "\n",
      "<bound method IndexOpsMixin.value_counts of 0    1\n",
      "1    2\n",
      "2    3\n",
      "3    4\n",
      "4    5\n",
      "5    6\n",
      "6    7\n",
      "7    8\n",
      "8    9\n",
      "dtype: int32>\n",
      "\n",
      "<bound method IndexOpsMixin.value_counts of 0     a\n",
      "1     b\n",
      "2     c\n",
      "3     d\n",
      "4     e\n",
      "5     f\n",
      "6     g\n",
      "7     h\n",
      "8     i\n",
      "9     j\n",
      "10    d\n",
      "11    e\n",
      "12    f\n",
      "dtype: object>\n"
     ]
    }
   ],
   "source": [
    "z = pd.Series([\"a\", 'b', 'c', 'd', 'e', 'f', 'g', 'h', 'i', 'j', 'd', 'e', 'f'])\n",
    "print(z)\n",
    "print()\n",
    "print(x.value_counts)\n",
    "print()\n",
    "print(z.value_counts)"
   ]
  },
  {
   "cell_type": "code",
   "execution_count": null,
   "id": "ebb444a6-6855-4eaa-a564-459a0188907f",
   "metadata": {},
   "outputs": [],
   "source": [
    "print(z.value_counts())"
   ]
  }
 ],
 "metadata": {
  "kernelspec": {
   "display_name": "Python 3 (ipykernel)",
   "language": "python",
   "name": "python3"
  },
  "language_info": {
   "codemirror_mode": {
    "name": "ipython",
    "version": 3
   },
   "file_extension": ".py",
   "mimetype": "text/x-python",
   "name": "python",
   "nbconvert_exporter": "python",
   "pygments_lexer": "ipython3",
   "version": "3.11.6"
  }
 },
 "nbformat": 4,
 "nbformat_minor": 5
}
