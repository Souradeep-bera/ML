{
 "cells": [
  {
   "cell_type": "code",
   "execution_count": 1,
   "id": "80928aca-15b1-4a22-8036-a6c422ab09ee",
   "metadata": {},
   "outputs": [],
   "source": [
    "import pandas as pd\n",
    "import numpy as np"
   ]
  },
  {
   "cell_type": "code",
   "execution_count": 2,
   "id": "79fc601c-2364-4d89-8934-db72460ff3c8",
   "metadata": {},
   "outputs": [
    {
     "data": {
      "text/plain": [
       "a    2\n",
       "b    2\n",
       "1    2\n",
       "c    1\n",
       "d    1\n",
       "Name: count, dtype: int64"
      ]
     },
     "execution_count": 2,
     "metadata": {},
     "output_type": "execute_result"
    }
   ],
   "source": [
    "x = pd.Series(['a', 'b', 'c', 'd', 'b', 'a', 1, 'e', 2, 3,1])\n",
    "x.value_counts().head()"
   ]
  },
  {
   "cell_type": "code",
   "execution_count": 3,
   "id": "19cbb2ad-0d1b-498d-a350-7431cf85bb51",
   "metadata": {},
   "outputs": [
    {
     "data": {
      "text/plain": [
       "a    2\n",
       "b    2\n",
       "Name: count, dtype: int64"
      ]
     },
     "execution_count": 3,
     "metadata": {},
     "output_type": "execute_result"
    }
   ],
   "source": [
    "x.value_counts().head(2)"
   ]
  },
  {
   "cell_type": "code",
   "execution_count": 5,
   "id": "ea98e736-61c1-4253-a150-50e901653c05",
   "metadata": {},
   "outputs": [
    {
     "data": {
      "text/plain": [
       "array([2, 2, 2, 1, 1], dtype=int64)"
      ]
     },
     "execution_count": 5,
     "metadata": {},
     "output_type": "execute_result"
    }
   ],
   "source": [
    "x.value_counts()\\\n",
    ".head()\\\n",
    ".values"
   ]
  }
 ],
 "metadata": {
  "kernelspec": {
   "display_name": "Python 3 (ipykernel)",
   "language": "python",
   "name": "python3"
  },
  "language_info": {
   "codemirror_mode": {
    "name": "ipython",
    "version": 3
   },
   "file_extension": ".py",
   "mimetype": "text/x-python",
   "name": "python",
   "nbconvert_exporter": "python",
   "pygments_lexer": "ipython3",
   "version": "3.11.6"
  }
 },
 "nbformat": 4,
 "nbformat_minor": 5
}
