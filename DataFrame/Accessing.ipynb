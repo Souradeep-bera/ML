{
 "cells": [
  {
   "cell_type": "code",
   "execution_count": 2,
   "id": "3e77c477-d8cb-4519-b19d-021909305773",
   "metadata": {},
   "outputs": [],
   "source": [
    "import pandas as pd\n",
    "import numpy as np"
   ]
  },
  {
   "cell_type": "markdown",
   "id": "f6d36248-f75d-492d-9bd3-12459c861136",
   "metadata": {},
   "source": [
    "# Accessing attributes"
   ]
  },
  {
   "cell_type": "code",
   "execution_count": 3,
   "id": "38968771-5f06-49a4-b827-0a210e0e871d",
   "metadata": {},
   "outputs": [
    {
     "data": {
      "text/html": [
       "<div>\n",
       "<style scoped>\n",
       "    .dataframe tbody tr th:only-of-type {\n",
       "        vertical-align: middle;\n",
       "    }\n",
       "\n",
       "    .dataframe tbody tr th {\n",
       "        vertical-align: top;\n",
       "    }\n",
       "\n",
       "    .dataframe thead th {\n",
       "        text-align: right;\n",
       "    }\n",
       "</style>\n",
       "<table border=\"1\" class=\"dataframe\">\n",
       "  <thead>\n",
       "    <tr style=\"text-align: right;\">\n",
       "      <th></th>\n",
       "      <th>Class-1</th>\n",
       "      <th>Class-2</th>\n",
       "      <th>Class-3</th>\n",
       "    </tr>\n",
       "  </thead>\n",
       "  <tbody>\n",
       "    <tr>\n",
       "      <th>0</th>\n",
       "      <td>22</td>\n",
       "      <td>24</td>\n",
       "      <td>20</td>\n",
       "    </tr>\n",
       "    <tr>\n",
       "      <th>1</th>\n",
       "      <td>40</td>\n",
       "      <td>50</td>\n",
       "      <td>45</td>\n",
       "    </tr>\n",
       "  </tbody>\n",
       "</table>\n",
       "</div>"
      ],
      "text/plain": [
       "   Class-1  Class-2  Class-3\n",
       "0       22       24       20\n",
       "1       40       50       45"
      ]
     },
     "execution_count": 3,
     "metadata": {},
     "output_type": "execute_result"
    }
   ],
   "source": [
    "age_combine = pd.DataFrame({'Class-1':[22,40],'Class-2':[24,50],'Class-3':[20,45]})\n",
    "age_combine"
   ]
  },
  {
   "cell_type": "markdown",
   "id": "ba5f2867-86fb-494c-8574-dcb324f2c929",
   "metadata": {},
   "source": [
    "# Attributes"
   ]
  },
  {
   "cell_type": "code",
   "execution_count": 4,
   "id": "bb9bd148-615e-4027-8419-d051ca9d8cc9",
   "metadata": {},
   "outputs": [
    {
     "data": {
      "text/plain": [
       "RangeIndex(start=0, stop=2, step=1)"
      ]
     },
     "execution_count": 4,
     "metadata": {},
     "output_type": "execute_result"
    }
   ],
   "source": [
    "# index attribute\n",
    "age_combine.index"
   ]
  },
  {
   "cell_type": "code",
   "execution_count": 5,
   "id": "83c99dbf-d66e-4a0f-80dd-ca9a375ce7de",
   "metadata": {},
   "outputs": [
    {
     "data": {
      "text/plain": [
       "Index(['Class-1', 'Class-2', 'Class-3'], dtype='object')"
      ]
     },
     "execution_count": 5,
     "metadata": {},
     "output_type": "execute_result"
    }
   ],
   "source": [
    "# columns attribute\n",
    "age_combine.columns"
   ]
  },
  {
   "cell_type": "markdown",
   "id": "65386081-a9c9-40b7-a9c1-39582725732c",
   "metadata": {},
   "source": [
    "# Accessing the values"
   ]
  },
  {
   "cell_type": "code",
   "execution_count": 6,
   "id": "865a5aca-c7c4-4e80-b6a9-b7450d703081",
   "metadata": {},
   "outputs": [
    {
     "data": {
      "text/plain": [
       "array([[22, 24, 20],\n",
       "       [40, 50, 45]], dtype=int64)"
      ]
     },
     "execution_count": 6,
     "metadata": {},
     "output_type": "execute_result"
    }
   ],
   "source": [
    "# values attribute\n",
    "age_combine.values"
   ]
  }
 ],
 "metadata": {
  "kernelspec": {
   "display_name": "Python 3 (ipykernel)",
   "language": "python",
   "name": "python3"
  },
  "language_info": {
   "codemirror_mode": {
    "name": "ipython",
    "version": 3
   },
   "file_extension": ".py",
   "mimetype": "text/x-python",
   "name": "python",
   "nbconvert_exporter": "python",
   "pygments_lexer": "ipython3",
   "version": "3.11.6"
  }
 },
 "nbformat": 4,
 "nbformat_minor": 5
}
