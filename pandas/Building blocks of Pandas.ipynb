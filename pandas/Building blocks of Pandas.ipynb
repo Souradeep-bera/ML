{
 "cells": [
  {
   "cell_type": "code",
   "execution_count": 8,
   "id": "2a4521a4-aad1-4fdf-95e4-26f9c247d85a",
   "metadata": {},
   "outputs": [],
   "source": [
    "import pandas as pd\n",
    "import numpy as np"
   ]
  },
  {
   "cell_type": "code",
   "execution_count": 2,
   "id": "8deb3eb2-7190-4c40-ae8c-20e110581679",
   "metadata": {},
   "outputs": [
    {
     "data": {
      "text/plain": [
       "0    2\n",
       "dtype: int64"
      ]
     },
     "execution_count": 2,
     "metadata": {},
     "output_type": "execute_result"
    }
   ],
   "source": [
    "pd.Series(2)"
   ]
  },
  {
   "cell_type": "raw",
   "id": "77f19210-33b1-4c3f-a66c-15d05aec1dbd",
   "metadata": {},
   "source": [
    "Using a list"
   ]
  },
  {
   "cell_type": "code",
   "execution_count": 3,
   "id": "487dc43f-b4be-4599-98ab-914b163b674c",
   "metadata": {},
   "outputs": [
    {
     "data": {
      "text/plain": [
       "0    2\n",
       "1    2\n",
       "2    2\n",
       "3    2\n",
       "4    2\n",
       "dtype: int64"
      ]
     },
     "execution_count": 3,
     "metadata": {},
     "output_type": "execute_result"
    }
   ],
   "source": [
    "pd.Series([2]*5)"
   ]
  },
  {
   "cell_type": "raw",
   "id": "226cb9b2-ffb5-4750-bafa-23c49cd6914e",
   "metadata": {},
   "source": [
    "Using characters in a\n",
    "string"
   ]
  },
  {
   "cell_type": "code",
   "execution_count": 5,
   "id": "fbea016b-e8f8-4f6e-b743-3187fc3c2e29",
   "metadata": {},
   "outputs": [
    {
     "data": {
      "text/plain": [
       "0    h\n",
       "1    e\n",
       "2    l\n",
       "3    l\n",
       "4    o\n",
       "dtype: object"
      ]
     },
     "execution_count": 5,
     "metadata": {},
     "output_type": "execute_result"
    }
   ],
   "source": [
    "pd.Series('hello')\n",
    "pd.Series(list('hello'))"
   ]
  },
  {
   "cell_type": "raw",
   "id": "94d4f7af-a137-44f6-8c51-3fd078b30ebe",
   "metadata": {},
   "source": [
    "Using a dictionary"
   ]
  },
  {
   "cell_type": "code",
   "execution_count": 6,
   "id": "57c5744a-6007-4d38-a075-98d1d39d2839",
   "metadata": {},
   "outputs": [
    {
     "data": {
      "text/plain": [
       "1        India\n",
       "2        Japan\n",
       "3    Singapore\n",
       "dtype: object"
      ]
     },
     "execution_count": 6,
     "metadata": {},
     "output_type": "execute_result"
    }
   ],
   "source": [
    "pd.Series({1:'India',2:'Japan',3:'Singapore'})"
   ]
  },
  {
   "cell_type": "raw",
   "id": "b6fd52e0-0492-44bb-af95-845165bf8a8a",
   "metadata": {},
   "source": [
    "Using a range"
   ]
  },
  {
   "cell_type": "code",
   "execution_count": 10,
   "id": "111d2ca1-d1f2-4fed-9597-b38bd4b05e93",
   "metadata": {},
   "outputs": [
    {
     "data": {
      "text/plain": [
       "0    1\n",
       "1    2\n",
       "2    3\n",
       "3    4\n",
       "dtype: int32"
      ]
     },
     "execution_count": 10,
     "metadata": {},
     "output_type": "execute_result"
    }
   ],
   "source": [
    "pd.Series(np.arange(1, 5))"
   ]
  },
  {
   "cell_type": "raw",
   "id": "fa27a583-8688-49b9-aa11-28f36ce07b6a",
   "metadata": {},
   "source": [
    "Using random numbers"
   ]
  },
  {
   "cell_type": "code",
   "execution_count": 12,
   "id": "8d4664ff-704d-47d5-9e9f-c086ab49f39d",
   "metadata": {},
   "outputs": [
    {
     "data": {
      "text/plain": [
       "0   -0.381231\n",
       "1   -0.304614\n",
       "2   -0.022726\n",
       "3   -1.370991\n",
       "dtype: float64"
      ]
     },
     "execution_count": 12,
     "metadata": {},
     "output_type": "execute_result"
    }
   ],
   "source": [
    "pd.Series(np.random.normal(size=4))"
   ]
  },
  {
   "cell_type": "raw",
   "id": "69080232-cdec-42ef-b8b8-4f4ce3a7bf77",
   "metadata": {},
   "source": [
    "Creating a series with customized index labels"
   ]
  },
  {
   "cell_type": "code",
   "execution_count": 13,
   "id": "a85735bf-01f9-4e34-864d-60b5e5b048eb",
   "metadata": {},
   "outputs": [
    {
     "data": {
      "text/plain": [
       "a    2\n",
       "b    0\n",
       "c    1\n",
       "d    6\n",
       "dtype: int64"
      ]
     },
     "execution_count": 13,
     "metadata": {},
     "output_type": "execute_result"
    }
   ],
   "source": [
    "pd.Series([2,0,1,6],index=['a','b','c','d'])"
   ]
  },
  {
   "cell_type": "code",
   "execution_count": null,
   "id": "4b9f2cbd-3ee7-4af6-8d6a-1afcb54ab87b",
   "metadata": {},
   "outputs": [],
   "source": []
  }
 ],
 "metadata": {
  "kernelspec": {
   "display_name": "Python 3 (ipykernel)",
   "language": "python",
   "name": "python3"
  },
  "language_info": {
   "codemirror_mode": {
    "name": "ipython",
    "version": 3
   },
   "file_extension": ".py",
   "mimetype": "text/x-python",
   "name": "python",
   "nbconvert_exporter": "python",
   "pygments_lexer": "ipython3",
   "version": "3.11.6"
  }
 },
 "nbformat": 4,
 "nbformat_minor": 5
}
