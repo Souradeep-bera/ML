{
 "cells": [
  {
   "cell_type": "raw",
   "id": "286ee30c-a902-441e-9e78-c5ef32d8db99",
   "metadata": {},
   "source": [
    "three ways of finding the number of elements a Series contains"
   ]
  },
  {
   "cell_type": "code",
   "execution_count": 1,
   "id": "934b4509-485d-433b-9efa-141a183cba70",
   "metadata": {},
   "outputs": [],
   "source": [
    "import pandas as pd\n",
    "import numpy as np"
   ]
  },
  {
   "cell_type": "raw",
   "id": "38ce7d66-3a76-46dd-b882-7bf13291e02d",
   "metadata": {},
   "source": [
    "size attribute and the len function return a single value"
   ]
  },
  {
   "cell_type": "code",
   "execution_count": 2,
   "id": "7d234857-8da0-4ff1-833c-0fa9a7b7c2e6",
   "metadata": {},
   "outputs": [],
   "source": [
    "x = pd.Series(np.arange(1, 10))"
   ]
  },
  {
   "cell_type": "code",
   "execution_count": 4,
   "id": "18b60158-d881-46f2-9696-b6d09f4914fc",
   "metadata": {},
   "outputs": [
    {
     "name": "stdout",
     "output_type": "stream",
     "text": [
      "9\n",
      "9\n"
     ]
    }
   ],
   "source": [
    "print(x.size)\n",
    "print(len(x))"
   ]
  },
  {
   "cell_type": "code",
   "execution_count": null,
   "id": "72febba2-385f-42c6-8e36-9b0e60a22e96",
   "metadata": {},
   "outputs": [],
   "source": []
  }
 ],
 "metadata": {
  "kernelspec": {
   "display_name": "Python 3 (ipykernel)",
   "language": "python",
   "name": "python3"
  },
  "language_info": {
   "codemirror_mode": {
    "name": "ipython",
    "version": 3
   },
   "file_extension": ".py",
   "mimetype": "text/x-python",
   "name": "python",
   "nbconvert_exporter": "python",
   "pygments_lexer": "ipython3",
   "version": "3.11.6"
  }
 },
 "nbformat": 4,
 "nbformat_minor": 5
}
